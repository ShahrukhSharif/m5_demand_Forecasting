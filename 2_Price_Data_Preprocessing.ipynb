{
 "cells": [
  {
   "cell_type": "code",
   "execution_count": 2,
   "metadata": {
    "id": "Oq97y8KYlIsM"
   },
   "outputs": [],
   "source": [
    "# Donwload The Data From Kaggle Website\n",
    "# Ref --->>>    https://www.kaggle.com/c/m5-forecasting-accuracy/data\n",
    "\n",
    "#!wget --header=\"Host: storage.googleapis.com\" --header=\"User-Agent: Mozilla/5.0 (Windows NT 10.0; Win64; x64) AppleWebKit/537.36 (KHTML, like Gecko) Chrome/88.0.4324.150 Safari/537.36\" --header=\"Accept: text/html,application/xhtml+xml,application/xml;q=0.9,image/avif,image/webp,image/apng,*/*;q=0.8,application/signed-exchange;v=b3;q=0.9\" --header=\"Accept-Language: en-US,en;q=0.9,hi;q=0.8\" --header=\"Referer: https://www.kaggle.com/\" \"https://storage.googleapis.com/kaggle-competitions-data/kaggle-v2/18599/1236839/bundle/archive.zip?GoogleAccessId=web-data@kaggle-161607.iam.gserviceaccount.com&Expires=1613616406&Signature=ATkmpM8nN%2FZLIkXZrolncObSXrVNOynpJysya8LzvNIQM4arr0pkY1iWDj7OzRmM4oLW4rgYTNYLPtOE7rLkWRnVC81IyriF031zSj5o%2BtQuJwLW7qaKV34edxt%2FlcS5DKHhYkbP2atJeg%2F%2F7RoZ5HWOGT2xYJYlEVXOUWQZuaLsRZoZrbTup5AZD5fYjweaRgCACU4jB3KxngAYlVUF10PEYDF8dusTHcw7ChmbPtM7vgdeGYd4GRb57GE0yyOJLdWVocFtr4OqrMCfoYwQ87D2ZBVphxanqLriNHe84857BGEx21CE8AqODDDPLUa4M%2FmtnI82Cojg3FCvyb21HA%3D%3D&response-content-disposition=attachment%3B+filename%3Dm5-forecasting-accuracy.zip\" -c -O 'm5-forecasting-accuracy.zip'"
   ]
  },
  {
   "cell_type": "code",
   "execution_count": 4,
   "metadata": {
    "id": "D-0vY5OWlpsH"
   },
   "outputs": [],
   "source": [
    "# Unzip the data\n",
    "\n",
    "#!unzip  m5-forecasting-accuracy.zip"
   ]
  },
  {
   "cell_type": "code",
   "execution_count": 5,
   "metadata": {
    "id": "xL2fUtvRlzN4"
   },
   "outputs": [],
   "source": [
    "# import the Library\n",
    "\n",
    "import pandas as pd"
   ]
  },
  {
   "cell_type": "code",
   "execution_count": 6,
   "metadata": {
    "id": "XjKl-o4pl24P"
   },
   "outputs": [],
   "source": [
    "# Read The Price Data\n",
    "\n",
    "prices = pd.read_csv('sell_prices.csv')"
   ]
  },
  {
   "cell_type": "code",
   "execution_count": 7,
   "metadata": {
    "colab": {
     "base_uri": "https://localhost:8080/",
     "height": 204
    },
    "id": "6dyzAZA-l9pj",
    "outputId": "1d5c95c8-756c-4a58-d86b-044f1357e2fe"
   },
   "outputs": [
    {
     "data": {
      "text/html": [
       "<div>\n",
       "<style scoped>\n",
       "    .dataframe tbody tr th:only-of-type {\n",
       "        vertical-align: middle;\n",
       "    }\n",
       "\n",
       "    .dataframe tbody tr th {\n",
       "        vertical-align: top;\n",
       "    }\n",
       "\n",
       "    .dataframe thead th {\n",
       "        text-align: right;\n",
       "    }\n",
       "</style>\n",
       "<table border=\"1\" class=\"dataframe\">\n",
       "  <thead>\n",
       "    <tr style=\"text-align: right;\">\n",
       "      <th></th>\n",
       "      <th>store_id</th>\n",
       "      <th>item_id</th>\n",
       "      <th>wm_yr_wk</th>\n",
       "      <th>sell_price</th>\n",
       "    </tr>\n",
       "  </thead>\n",
       "  <tbody>\n",
       "    <tr>\n",
       "      <th>368746</th>\n",
       "      <td>CA_1</td>\n",
       "      <td>FOODS_1_001</td>\n",
       "      <td>11101</td>\n",
       "      <td>2.0</td>\n",
       "    </tr>\n",
       "    <tr>\n",
       "      <th>368747</th>\n",
       "      <td>CA_1</td>\n",
       "      <td>FOODS_1_001</td>\n",
       "      <td>11102</td>\n",
       "      <td>2.0</td>\n",
       "    </tr>\n",
       "    <tr>\n",
       "      <th>368748</th>\n",
       "      <td>CA_1</td>\n",
       "      <td>FOODS_1_001</td>\n",
       "      <td>11103</td>\n",
       "      <td>2.0</td>\n",
       "    </tr>\n",
       "    <tr>\n",
       "      <th>368749</th>\n",
       "      <td>CA_1</td>\n",
       "      <td>FOODS_1_001</td>\n",
       "      <td>11104</td>\n",
       "      <td>2.0</td>\n",
       "    </tr>\n",
       "    <tr>\n",
       "      <th>368750</th>\n",
       "      <td>CA_1</td>\n",
       "      <td>FOODS_1_001</td>\n",
       "      <td>11105</td>\n",
       "      <td>2.0</td>\n",
       "    </tr>\n",
       "  </tbody>\n",
       "</table>\n",
       "</div>"
      ],
      "text/plain": [
       "       store_id      item_id  wm_yr_wk  sell_price\n",
       "368746     CA_1  FOODS_1_001     11101         2.0\n",
       "368747     CA_1  FOODS_1_001     11102         2.0\n",
       "368748     CA_1  FOODS_1_001     11103         2.0\n",
       "368749     CA_1  FOODS_1_001     11104         2.0\n",
       "368750     CA_1  FOODS_1_001     11105         2.0"
      ]
     },
     "execution_count": 7,
     "metadata": {
      "tags": []
     },
     "output_type": "execute_result"
    }
   ],
   "source": [
    "# Sort Data Based on Certain Columns\n",
    "prices = prices.sort_values(by=['item_id','store_id','wm_yr_wk'])\n",
    "\n",
    "prices.head(5)"
   ]
  },
  {
   "cell_type": "markdown",
   "metadata": {
    "id": "vW9WRi24mL6R"
   },
   "source": [
    " <font color='green'>**Product Weekly Price Information We Have.**"
   ]
  },
  {
   "cell_type": "code",
   "execution_count": 8,
   "metadata": {
    "colab": {
     "base_uri": "https://localhost:8080/"
    },
    "id": "vDTDz0J5mCY8",
    "outputId": "cf539943-c566-4788-c198-43e0c6c81ad6"
   },
   "outputs": [
    {
     "data": {
      "text/plain": [
       "(6841121, 4)"
      ]
     },
     "execution_count": 8,
     "metadata": {
      "tags": []
     },
     "output_type": "execute_result"
    }
   ],
   "source": [
    "prices.shape"
   ]
  },
  {
   "cell_type": "code",
   "execution_count": 9,
   "metadata": {
    "id": "zc_4NUiSmFty"
   },
   "outputs": [],
   "source": [
    "# Price Differnce Between Weeks,Months and Two Months\n",
    "\n",
    "for win in [2, 4, 8]:\n",
    "    prices['price_diffrence_{}'.format(win)] = prices[[\"store_id\",\"item_id\",\"sell_price\"]].groupby(\n",
    "        [\"store_id\",\"item_id\"])[\"sell_price\"].transform(lambda x : x.rolling(win).mean())\n",
    "    prices['price_diffrence_{}'.format(win)] = ((prices['sell_price'] - prices['price_diffrence_{}'.format(win)])/prices['sell_price']).round(3)"
   ]
  },
  {
   "cell_type": "code",
   "execution_count": 10,
   "metadata": {
    "colab": {
     "base_uri": "https://localhost:8080/",
     "height": 204
    },
    "id": "Dc8_RZe0np1q",
    "outputId": "a00afc38-9e81-44d9-85aa-aaceb3994f09"
   },
   "outputs": [
    {
     "data": {
      "text/html": [
       "<div>\n",
       "<style scoped>\n",
       "    .dataframe tbody tr th:only-of-type {\n",
       "        vertical-align: middle;\n",
       "    }\n",
       "\n",
       "    .dataframe tbody tr th {\n",
       "        vertical-align: top;\n",
       "    }\n",
       "\n",
       "    .dataframe thead th {\n",
       "        text-align: right;\n",
       "    }\n",
       "</style>\n",
       "<table border=\"1\" class=\"dataframe\">\n",
       "  <thead>\n",
       "    <tr style=\"text-align: right;\">\n",
       "      <th></th>\n",
       "      <th>store_id</th>\n",
       "      <th>item_id</th>\n",
       "      <th>wm_yr_wk</th>\n",
       "      <th>sell_price</th>\n",
       "      <th>price_diffrence_2</th>\n",
       "      <th>price_diffrence_4</th>\n",
       "      <th>price_diffrence_8</th>\n",
       "    </tr>\n",
       "  </thead>\n",
       "  <tbody>\n",
       "    <tr>\n",
       "      <th>368746</th>\n",
       "      <td>CA_1</td>\n",
       "      <td>FOODS_1_001</td>\n",
       "      <td>11101</td>\n",
       "      <td>2.0</td>\n",
       "      <td>NaN</td>\n",
       "      <td>NaN</td>\n",
       "      <td>NaN</td>\n",
       "    </tr>\n",
       "    <tr>\n",
       "      <th>368747</th>\n",
       "      <td>CA_1</td>\n",
       "      <td>FOODS_1_001</td>\n",
       "      <td>11102</td>\n",
       "      <td>2.0</td>\n",
       "      <td>0.0</td>\n",
       "      <td>NaN</td>\n",
       "      <td>NaN</td>\n",
       "    </tr>\n",
       "    <tr>\n",
       "      <th>368748</th>\n",
       "      <td>CA_1</td>\n",
       "      <td>FOODS_1_001</td>\n",
       "      <td>11103</td>\n",
       "      <td>2.0</td>\n",
       "      <td>0.0</td>\n",
       "      <td>NaN</td>\n",
       "      <td>NaN</td>\n",
       "    </tr>\n",
       "    <tr>\n",
       "      <th>368749</th>\n",
       "      <td>CA_1</td>\n",
       "      <td>FOODS_1_001</td>\n",
       "      <td>11104</td>\n",
       "      <td>2.0</td>\n",
       "      <td>0.0</td>\n",
       "      <td>0.0</td>\n",
       "      <td>NaN</td>\n",
       "    </tr>\n",
       "    <tr>\n",
       "      <th>368750</th>\n",
       "      <td>CA_1</td>\n",
       "      <td>FOODS_1_001</td>\n",
       "      <td>11105</td>\n",
       "      <td>2.0</td>\n",
       "      <td>0.0</td>\n",
       "      <td>0.0</td>\n",
       "      <td>NaN</td>\n",
       "    </tr>\n",
       "  </tbody>\n",
       "</table>\n",
       "</div>"
      ],
      "text/plain": [
       "       store_id      item_id  ...  price_diffrence_4  price_diffrence_8\n",
       "368746     CA_1  FOODS_1_001  ...                NaN                NaN\n",
       "368747     CA_1  FOODS_1_001  ...                NaN                NaN\n",
       "368748     CA_1  FOODS_1_001  ...                NaN                NaN\n",
       "368749     CA_1  FOODS_1_001  ...                0.0                NaN\n",
       "368750     CA_1  FOODS_1_001  ...                0.0                NaN\n",
       "\n",
       "[5 rows x 7 columns]"
      ]
     },
     "execution_count": 10,
     "metadata": {
      "tags": []
     },
     "output_type": "execute_result"
    }
   ],
   "source": [
    "prices.head()"
   ]
  },
  {
   "cell_type": "code",
   "execution_count": 13,
   "metadata": {
    "colab": {
     "base_uri": "https://localhost:8080/"
    },
    "id": "5T_t1i5mo3_E",
    "outputId": "5c746715-fdc2-44a2-a4ef-a0692c71df65"
   },
   "outputs": [
    {
     "data": {
      "text/plain": [
       "store_id              object\n",
       "item_id               object\n",
       "wm_yr_wk               int64\n",
       "sell_price           float64\n",
       "price_diffrence_2    float64\n",
       "price_diffrence_4    float64\n",
       "price_diffrence_8    float64\n",
       "dtype: object"
      ]
     },
     "execution_count": 13,
     "metadata": {
      "tags": []
     },
     "output_type": "execute_result"
    }
   ],
   "source": [
    "prices.dtypes"
   ]
  },
  {
   "cell_type": "code",
   "execution_count": 11,
   "metadata": {
    "colab": {
     "base_uri": "https://localhost:8080/"
    },
    "id": "O4_NBzhKn1Q8",
    "outputId": "570d3e72-2191-44a3-a2c8-93aa8d702fb7"
   },
   "outputs": [
    {
     "name": "stdout",
     "output_type": "stream",
     "text": [
      "Mounted at /drive\n"
     ]
    }
   ],
   "source": [
    "# Save All The Data in Google Drive\n",
    "\n",
    "from google.colab import  drive\n",
    "drive.mount('/drive')\n",
    "prices.to_pickle('/drive/My Drive/Case_Study1/Price_Data_Preprocessing_1.pkl')"
   ]
  }
 ],
 "metadata": {
  "colab": {
   "name": "Price_Data_Preprocessing_1.ipynb",
   "provenance": []
  },
  "kernelspec": {
   "display_name": "Python 3",
   "language": "python",
   "name": "python3"
  },
  "language_info": {
   "codemirror_mode": {
    "name": "ipython",
    "version": 3
   },
   "file_extension": ".py",
   "mimetype": "text/x-python",
   "name": "python",
   "nbconvert_exporter": "python",
   "pygments_lexer": "ipython3",
   "version": "3.7.4"
  }
 },
 "nbformat": 4,
 "nbformat_minor": 1
}
